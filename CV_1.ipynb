{
 "cells": [
  {
   "cell_type": "markdown",
   "id": "a26ffba4-d6bf-40b5-8229-790068020236",
   "metadata": {},
   "source": [
    "#\n",
    "\n",
    "\n",
    "###  goals for life and Cv\n",
    "\n"
   ]
  }
 ],
 "metadata": {
  "kernelspec": {
   "display_name": "Python 3",
   "language": "python",
   "name": "python3"
  },
  "language_info": {
   "codemirror_mode": {
    "name": "ipython",
    "version": 3
   },
   "file_extension": ".py",
   "mimetype": "text/x-python",
   "name": "python",
   "nbconvert_exporter": "python",
   "pygments_lexer": "ipython3",
   "version": "3.8.8"
  }
 },
 "nbformat": 4,
 "nbformat_minor": 5
}
